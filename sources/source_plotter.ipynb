{
 "cells": [
  {
   "cell_type": "markdown",
   "metadata": {},
   "source": [
    "notebook to plot data from `NT_Src` and hopefully repeat the calculations in python"
   ]
  },
  {
   "cell_type": "code",
   "execution_count": 40,
   "metadata": {},
   "outputs": [],
   "source": [
    "import numpy as np\n",
    "import pandas as pd\n",
    "import matplotlib.pyplot as plt"
   ]
  },
  {
   "cell_type": "code",
   "execution_count": 41,
   "metadata": {},
   "outputs": [],
   "source": [
    "source_dir = '../../CDMS/supersim/CDMSsources/spectra/neutron/'\n",
    "\n",
    "source_files = {'U': 'norite_2013_U_1ppb.dat', 'Th': 'norite_2013_Th_1ppb.dat'}\n",
    "\n",
    "data_file = 'data/V1/data_Norite_100_Sg.dat'"
   ]
  },
  {
   "cell_type": "code",
   "execution_count": 42,
   "metadata": {},
   "outputs": [],
   "source": [
    "dat = pd.read_csv(data_file,sep = ' ', index_col = 0, names = ['Eg', 'Sg'])\n",
    "\n",
    "Eg = dat.Eg.values\n",
    "Sg = dat.Sg.values\n",
    "gs = dat.index\n",
    "\n",
    "def plottable(E, S):\n",
    "    return (E[1:] + E[:-1])/2, S[1:]"
   ]
  },
  {
   "cell_type": "code",
   "execution_count": 43,
   "metadata": {},
   "outputs": [],
   "source": [
    "src_dfs = {Z: pd.read_csv(source_dir + source_files[Z], sep = '\\t', index_col = False, names = ['E', 'spec']) for Z in source_files}\n",
    "\n",
    "EU = src_dfs['U'].E.values\n",
    "specU = src_dfs['U'].spec.values\n",
    "ETh = src_dfs['Th'].E.values\n",
    "specTh = src_dfs['Th'].spec.values\n",
    "\n",
    "if all(EU==ETh):\n",
    "    spec = (1.095e3)*specU + (5.715e3)*specTh"
   ]
  },
  {
   "cell_type": "code",
   "execution_count": 44,
   "metadata": {},
   "outputs": [],
   "source": [
    "def interp(x, x1, y1, x2, y2):\n",
    "    return y1 + (x-x1)*(y2-y1)/(x2-x1)\n",
    "\n",
    "def trap(x, y):\n",
    "    return ((y[1:] + y[:-1])*(x[1:] - x[:-1])).sum()/2"
   ]
  },
  {
   "cell_type": "code",
   "execution_count": 45,
   "metadata": {},
   "outputs": [],
   "source": [
    "Sg2 = np.zeros(Sg.shape)\n",
    "minE = EU[0]\n",
    "maxE = EU[-1]\n",
    "\n",
    "for g in range(1,len(Sg)):\n",
    "    gmin = Eg[g]\n",
    "    gmax = Eg[g-1]\n",
    "    if gmax < minE or maxE < gmin:\n",
    "        continue\n",
    "\n",
    "    idx = np.where((gmin < EU)*(EU < gmax))[0]\n",
    "\n",
    "    E_eval = list(EU[idx])\n",
    "    S_eval = list(spec[idx])\n",
    "\n",
    "    id_less = np.where(EU < gmin)[0]\n",
    "    if len(id_less) > 0:\n",
    "        E_eval = [gmin] + E_eval\n",
    "        i = id_less[-1]\n",
    "        S1 = interp(gmin, EU[i], spec[i], EU[i+1], spec[i+1])\n",
    "        S_eval = [S1] + S_eval\n",
    "        \n",
    "    id_greater = np.where(gmax < EU)[0]\n",
    "    if len(id_greater) > 0:\n",
    "        E_eval = E_eval + [gmax]\n",
    "        i = id_greater[0]\n",
    "        S2 = interp(gmax, EU[i-1], spec[i-1], EU[i], spec[i])\n",
    "        S_eval = S_eval + [S2]\n",
    "\n",
    "\n",
    "    E_eval = np.array(E_eval)\n",
    "    S_eval = np.array(S_eval)/EU[0]\n",
    "\n",
    "    Sg2[g] = trap(E_eval, S_eval)\n"
   ]
  },
  {
   "cell_type": "code",
   "execution_count": 46,
   "metadata": {},
   "outputs": [
    {
     "data": {
      "text/plain": [
       "<matplotlib.legend.Legend at 0x7f889b278dd0>"
      ]
     },
     "execution_count": 46,
     "metadata": {},
     "output_type": "execute_result"
    },
    {
     "data": {
      "image/png": "[encoded data removed]",
      "text/plain": [
       "<Figure size 432x288 with 1 Axes>"
      ]
     },
     "metadata": {
      "needs_background": "light"
     },
     "output_type": "display_data"
    }
   ],
   "source": [
    "plt.figure()\n",
    "plt.loglog()\n",
    "plt.grid()\n",
    "plt.xlabel('Energy [MeV]')\n",
    "\n",
    "plt.plot(*plottable(Eg, Sg), label = 'Sg')\n",
    "plt.plot(*plottable(Eg, Sg2), label = 'Sg2')\n",
    "\n",
    "plt.legend()"
   ]
  },
  {
   "cell_type": "code",
   "execution_count": 47,
   "metadata": {},
   "outputs": [
    {
     "data": {
      "text/plain": [
       "[<matplotlib.lines.Line2D at 0x7f8896d2a4d0>]"
      ]
     },
     "execution_count": 47,
     "metadata": {},
     "output_type": "execute_result"
    },
    {
     "data": {
      "image/png": "[encoded data removed]",
      "text/plain": [
       "<Figure size 432x288 with 1 Axes>"
      ]
     },
     "metadata": {
      "needs_background": "light"
     },
     "output_type": "display_data"
    }
   ],
   "source": [
    "plt.figure()\n",
    "plt.loglog()\n",
    "plt.grid()\n",
    "plt.xlabel('Energy [MeV]')\n",
    "plt.ylabel('Relative error')\n",
    "nz = Sg != 0\n",
    "plt.plot(*plottable(Eg[nz], abs(Sg[nz]-Sg2[nz])/Sg[nz]))"
   ]
  },
  {
   "cell_type": "code",
   "execution_count": 48,
   "metadata": {},
   "outputs": [
    {
     "data": {
      "text/plain": [
       "True"
      ]
     },
     "execution_count": 48,
     "metadata": {},
     "output_type": "execute_result"
    }
   ],
   "source": [
    "all((Sg == 0) == (Sg2 == 0))"
   ]
  },
  {
   "cell_type": "code",
   "execution_count": 49,
   "metadata": {},
   "outputs": [
    {
     "data": {
      "text/plain": [
       "(array([], dtype=int64),)"
      ]
     },
     "execution_count": 49,
     "metadata": {},
     "output_type": "execute_result"
    }
   ],
   "source": [
    "oops = np.where((Sg == 0) != (Sg2 == 0))\n",
    "oops"
   ]
  },
  {
   "cell_type": "code",
   "execution_count": 50,
   "metadata": {},
   "outputs": [
    {
     "data": {
      "text/plain": [
       "(4.467222407495235e-11, 4.467222407495235e-11)"
      ]
     },
     "execution_count": 50,
     "metadata": {},
     "output_type": "execute_result"
    }
   ],
   "source": [
    "Sg[4], Sg2[4]"
   ]
  },
  {
   "cell_type": "code",
   "execution_count": 51,
   "metadata": {},
   "outputs": [
    {
     "data": {
      "text/plain": [
       "(9.310838545560264, 11.271951093403215)"
      ]
     },
     "execution_count": 51,
     "metadata": {},
     "output_type": "execute_result"
    }
   ],
   "source": [
    "Eg[4], Eg[3]"
   ]
  },
  {
   "cell_type": "code",
   "execution_count": 52,
   "metadata": {},
   "outputs": [
    {
     "data": {
      "text/plain": [
       "array([ 9.96,  9.98, 10.  ])"
      ]
     },
     "execution_count": 52,
     "metadata": {},
     "output_type": "execute_result"
    }
   ],
   "source": [
    "EU[-3:]"
   ]
  },
  {
   "cell_type": "code",
   "execution_count": 53,
   "metadata": {},
   "outputs": [
    {
     "data": {
      "text/plain": [
       "4.6985943399449996e-07"
      ]
     },
     "execution_count": 53,
     "metadata": {},
     "output_type": "execute_result"
    }
   ],
   "source": [
    "Sg.sum()"
   ]
  },
  {
   "cell_type": "code",
   "execution_count": null,
   "metadata": {},
   "outputs": [],
   "source": []
  }
 ],
 "metadata": {
  "kernelspec": {
   "display_name": "base",
   "language": "python",
   "name": "python3"
  },
  "language_info": {
   "codemirror_mode": {
    "name": "ipython",
    "version": 3
   },
   "file_extension": ".py",
   "mimetype": "text/x-python",
   "name": "python",
   "nbconvert_exporter": "python",
   "pygments_lexer": "ipython3",
   "version": "3.7.11"
  },
  "orig_nbformat": 4
 },
 "nbformat": 4,
 "nbformat_minor": 2
}
